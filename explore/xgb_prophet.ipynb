{
 "cells": [
  {
   "cell_type": "code",
   "execution_count": 1,
   "id": "2cff8819-6e63-4ea2-bd88-49c25d26e8d8",
   "metadata": {},
   "outputs": [],
   "source": [
    "import pandas as pd\n",
    "import numpy as np\n",
    "import matplotlib.pyplot as plt\n",
    "import seaborn as sns\n",
    "import xgboost as xgb\n",
    "from sklearn.metrics import mean_squared_error, mean_absolute_percentage_error\n",
    "from sklearn.model_selection import TimeSeriesSplit, RandomizedSearchCV\n",
    "from statsmodels.graphics.tsaplots import plot_acf, plot_pacf, plot_ccf\n",
    "from statsmodels.tsa.stattools import ccf\n",
    "from scipy.stats import uniform, randint\n",
    "from prophet import Prophet\n",
    "\n",
    "\n",
    "color_pal = sns.color_palette()"
   ]
  },
  {
   "cell_type": "markdown",
   "id": "785d529f-cfce-42f4-999f-ee5b2b6086b7",
   "metadata": {},
   "source": [
    "# Use xgb to do predictions and prophet to get future values of covariates"
   ]
  },
  {
   "cell_type": "code",
   "execution_count": null,
   "id": "2b34235c-ac79-40f6-9d9f-ab9f6feb614f",
   "metadata": {},
   "outputs": [],
   "source": []
  }
 ],
 "metadata": {
  "kernelspec": {
   "display_name": "Python 3 (ipykernel)",
   "language": "python",
   "name": "python3"
  },
  "language_info": {
   "codemirror_mode": {
    "name": "ipython",
    "version": 3
   },
   "file_extension": ".py",
   "mimetype": "text/x-python",
   "name": "python",
   "nbconvert_exporter": "python",
   "pygments_lexer": "ipython3",
   "version": "3.11.5"
  }
 },
 "nbformat": 4,
 "nbformat_minor": 5
}
